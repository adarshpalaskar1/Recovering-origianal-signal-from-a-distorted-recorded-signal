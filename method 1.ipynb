{
 "cells": [
  {
   "cell_type": "markdown",
   "metadata": {},
   "source": [
    "# Method 1\n",
    "\n",
    "Noise filtering and then debluring the given transmitted signal y[n]"
   ]
  },
  {
   "cell_type": "code",
   "execution_count": 24,
   "metadata": {},
   "outputs": [],
   "source": [
    "# importing required libraries for basic mathematics and manipulation\n",
    "\n",
    "import pandas as pd\n",
    "import matplotlib.pyplot as plt\n",
    "import numpy as np\n",
    "import math"
   ]
  },
  {
   "cell_type": "code",
   "execution_count": 25,
   "metadata": {},
   "outputs": [],
   "source": [
    "#reads the csv and stores it in a dataframe\n",
    "\n",
    "df = pd.read_csv('data.csv')"
   ]
  },
  {
   "cell_type": "code",
   "execution_count": 26,
   "metadata": {},
   "outputs": [
    {
     "data": {
      "text/html": [
       "<div>\n",
       "<style scoped>\n",
       "    .dataframe tbody tr th:only-of-type {\n",
       "        vertical-align: middle;\n",
       "    }\n",
       "\n",
       "    .dataframe tbody tr th {\n",
       "        vertical-align: top;\n",
       "    }\n",
       "\n",
       "    .dataframe thead th {\n",
       "        text-align: right;\n",
       "    }\n",
       "</style>\n",
       "<table border=\"1\" class=\"dataframe\">\n",
       "  <thead>\n",
       "    <tr style=\"text-align: right;\">\n",
       "      <th></th>\n",
       "      <th>x[n]</th>\n",
       "      <th>y[n]</th>\n",
       "    </tr>\n",
       "  </thead>\n",
       "  <tbody>\n",
       "    <tr>\n",
       "      <th>0</th>\n",
       "      <td>35.4312</td>\n",
       "      <td>33.3735</td>\n",
       "    </tr>\n",
       "    <tr>\n",
       "      <th>1</th>\n",
       "      <td>35.1511</td>\n",
       "      <td>34.3744</td>\n",
       "    </tr>\n",
       "    <tr>\n",
       "      <th>2</th>\n",
       "      <td>34.8284</td>\n",
       "      <td>35.7514</td>\n",
       "    </tr>\n",
       "    <tr>\n",
       "      <th>3</th>\n",
       "      <td>34.4656</td>\n",
       "      <td>35.5869</td>\n",
       "    </tr>\n",
       "    <tr>\n",
       "      <th>4</th>\n",
       "      <td>34.0656</td>\n",
       "      <td>36.0826</td>\n",
       "    </tr>\n",
       "  </tbody>\n",
       "</table>\n",
       "</div>"
      ],
      "text/plain": [
       "      x[n]     y[n]\n",
       "0  35.4312  33.3735\n",
       "1  35.1511  34.3744\n",
       "2  34.8284  35.7514\n",
       "3  34.4656  35.5869\n",
       "4  34.0656  36.0826"
      ]
     },
     "execution_count": 26,
     "metadata": {},
     "output_type": "execute_result"
    }
   ],
   "source": [
    "#displays first five rows\n",
    "df.head()"
   ]
  },
  {
   "cell_type": "code",
   "execution_count": 27,
   "metadata": {},
   "outputs": [
    {
     "data": {
      "text/html": [
       "<div>\n",
       "<style scoped>\n",
       "    .dataframe tbody tr th:only-of-type {\n",
       "        vertical-align: middle;\n",
       "    }\n",
       "\n",
       "    .dataframe tbody tr th {\n",
       "        vertical-align: top;\n",
       "    }\n",
       "\n",
       "    .dataframe thead th {\n",
       "        text-align: right;\n",
       "    }\n",
       "</style>\n",
       "<table border=\"1\" class=\"dataframe\">\n",
       "  <thead>\n",
       "    <tr style=\"text-align: right;\">\n",
       "      <th></th>\n",
       "      <th></th>\n",
       "      <th></th>\n",
       "    </tr>\n",
       "  </thead>\n",
       "  <tbody>\n",
       "    <tr>\n",
       "      <th>0</th>\n",
       "      <td>35.4312</td>\n",
       "      <td>33.3735</td>\n",
       "    </tr>\n",
       "    <tr>\n",
       "      <th>1</th>\n",
       "      <td>35.1511</td>\n",
       "      <td>34.3744</td>\n",
       "    </tr>\n",
       "    <tr>\n",
       "      <th>2</th>\n",
       "      <td>34.8284</td>\n",
       "      <td>35.7514</td>\n",
       "    </tr>\n",
       "    <tr>\n",
       "      <th>3</th>\n",
       "      <td>34.4656</td>\n",
       "      <td>35.5869</td>\n",
       "    </tr>\n",
       "    <tr>\n",
       "      <th>4</th>\n",
       "      <td>34.0656</td>\n",
       "      <td>36.0826</td>\n",
       "    </tr>\n",
       "  </tbody>\n",
       "</table>\n",
       "</div>"
      ],
      "text/plain": [
       "                   \n",
       "0  35.4312  33.3735\n",
       "1  35.1511  34.3744\n",
       "2  34.8284  35.7514\n",
       "3  34.4656  35.5869\n",
       "4  34.0656  36.0826"
      ]
     },
     "execution_count": 27,
     "metadata": {},
     "output_type": "execute_result"
    }
   ],
   "source": [
    "# removing headers\n",
    "df = df.rename(columns={col: \"\" for col in df})\n",
    "df.head()"
   ]
  },
  {
   "cell_type": "code",
   "execution_count": 28,
   "metadata": {},
   "outputs": [
    {
     "data": {
      "text/plain": [
       "0    33.3735\n",
       "1    34.3744\n",
       "2    35.7514\n",
       "3    35.5869\n",
       "4    36.0826\n",
       "Name: , dtype: float64"
      ]
     },
     "execution_count": 28,
     "metadata": {},
     "output_type": "execute_result"
    }
   ],
   "source": [
    "# converting data into 1D lists\n",
    "x = df.iloc[:,0]\n",
    "y = df.iloc[:,1]\n",
    "y.head()"
   ]
  },
  {
   "cell_type": "code",
   "execution_count": 29,
   "metadata": {},
   "outputs": [],
   "source": [
    "# converts to numpy array which supports complex number manipulation\n",
    "x = np.array(x)\n",
    "y = np.array(y)"
   ]
  },
  {
   "cell_type": "markdown",
   "metadata": {},
   "source": [
    "# Representation of initial signals\n",
    "The orange plot represents original signal x[n] and blue plot represents transmitted signal y[n]"
   ]
  },
  {
   "cell_type": "code",
   "execution_count": 30,
   "metadata": {},
   "outputs": [
    {
     "data": {
      "text/plain": [
       "[<matplotlib.lines.Line2D at 0x28b07adb8b0>]"
      ]
     },
     "execution_count": 30,
     "metadata": {},
     "output_type": "execute_result"
    },
    {
     "data": {
      "image/png": "[encoded data removed]",
      "text/plain": [
       "<Figure size 432x288 with 1 Axes>"
      ]
     },
     "metadata": {
      "needs_background": "light"
     },
     "output_type": "display_data"
    }
   ],
   "source": [
    "plt.plot(range(0,193),y)\n",
    "plt.plot(range(0,193),x)"
   ]
  },
  {
   "cell_type": "markdown",
   "metadata": {},
   "source": [
    "Step 1 : Removng noise by using moving averages"
   ]
  },
  {
   "cell_type": "code",
   "execution_count": 31,
   "metadata": {},
   "outputs": [],
   "source": [
    "\n",
    "window_size = 5       # indicates that we are taking average of 5 consecutive samples\n",
    "\n",
    "i = 0\n",
    "y_denoised = []\n",
    "\n",
    "while i < len(y) - window_size + 1:                   # while loop used untill the array ends, shifts the window by \n",
    "                                                      # one unit everytime the loop runs \n",
    "    \n",
    "    this_window = y[i : i + window_size]\n",
    "\n",
    "\n",
    "    window_average = sum(this_window) / window_size\n",
    "    y_denoised.append(window_average)\n",
    "    i += 1\n",
    "\n",
    "y_denoised.insert(-2,(y[-2]+y[-3]+y[-4])/3)           # we fall short of 4 values when window size is 5 and we add them \n",
    "y_denoised.insert(-1,(y[-1]+y[-2]+y[-3])/3)           # manually by using the same method but averaging 3 values to ensure\n",
    "                                                      # minimum deviation at the edges\n",
    "\n",
    "y_denoised.insert(0,(y[0]+y[1]+y[2])/3)\n",
    "y_denoised.insert(1,(y[1]+y[2]+y[3])/3)\n"
   ]
  },
  {
   "cell_type": "markdown",
   "metadata": {},
   "source": [
    "# Plot of the denoised signal against original signal "
   ]
  },
  {
   "cell_type": "code",
   "execution_count": 32,
   "metadata": {},
   "outputs": [
    {
     "data": {
      "text/plain": [
       "[<matplotlib.lines.Line2D at 0x28b08baef70>]"
      ]
     },
     "execution_count": 32,
     "metadata": {},
     "output_type": "execute_result"
    },
    {
     "data": {
      "image/png": "[encoded data removed]",
      "text/plain": [
       "<Figure size 432x288 with 1 Axes>"
      ]
     },
     "metadata": {
      "needs_background": "light"
     },
     "output_type": "display_data"
    }
   ],
   "source": [
    "plt.plot(range(0,193),y_denoised)\n",
    "plt.plot(range(0,193),x)"
   ]
  },
  {
   "cell_type": "markdown",
   "metadata": {},
   "source": [
    "# Deblur using DTFT"
   ]
  },
  {
   "cell_type": "code",
   "execution_count": 33,
   "metadata": {},
   "outputs": [],
   "source": [
    "# dtft algorithm for the denoised version of y[n]\n",
    "\n",
    "N = len(y_denoised)                       \n",
    "w = np.linspace(0,2*math.pi,N)              # taking 193 samples of w between 0 and 2*pi\n",
    "\n",
    "X = np.zeros(N,dtype = 'complex_')          # array to store dtft\n",
    "\n",
    "for k in range(0,N-1):                      # outer loop to change the value of k       \n",
    "    X[k] = 0\n",
    "    \n",
    "    for n in range(0,N-1):                  # inner loop to change the value of n\n",
    "        \n",
    "        X[k] = X[k] + y_denoised[n]* math.e**(-1j *w[k] *n)               # formula for dtft"
   ]
  },
  {
   "cell_type": "code",
   "execution_count": 34,
   "metadata": {},
   "outputs": [
    {
     "data": {
      "text/plain": [
       "[<matplotlib.lines.Line2D at 0x28b08c106d0>]"
      ]
     },
     "execution_count": 34,
     "metadata": {},
     "output_type": "execute_result"
    },
    {
     "data": {
      "image/png": "[encoded data removed]",
      "text/plain": [
       "<Figure size 432x288 with 1 Axes>"
      ]
     },
     "metadata": {
      "needs_background": "light"
     },
     "output_type": "display_data"
    }
   ],
   "source": [
    "# plot for dtft\n",
    "plt.plot(range(0,193),abs(X))"
   ]
  },
  {
   "cell_type": "code",
   "execution_count": 35,
   "metadata": {},
   "outputs": [],
   "source": [
    "# dtft for h[n]\n",
    "\n",
    "h = np.array([1/16, 1/4, 3/8, 1/4, 1/16])          # given\n",
    "\n",
    "N = 193\n",
    "\n",
    "w=[]\n",
    "for i in range (193):                              # taking 193 samples of w between 0 and 2*pi\n",
    "    w.append(2*math.pi*i/193)\n",
    "\n",
    "H = np.zeros(N,dtype = 'complex_')\n",
    "\n",
    "for k in range(0,N-1):                             # same dtft algorithm as above\n",
    "    H[k-2] = 0                                     # replace k by 2-k since the middle value in h[n] corresponds to n = 0  \n",
    "    \n",
    "    for n in range(0,5):\n",
    "        \n",
    "        H[k-2] = H[k-2] + h[n]* math.e**(-1j *w[k-2] *n)"
   ]
  },
  {
   "cell_type": "markdown",
   "metadata": {},
   "source": [
    "# Plot for DTFT of h[n]"
   ]
  },
  {
   "cell_type": "code",
   "execution_count": 36,
   "metadata": {},
   "outputs": [
    {
     "data": {
      "text/plain": [
       "[<matplotlib.lines.Line2D at 0x28b08c74250>]"
      ]
     },
     "execution_count": 36,
     "metadata": {},
     "output_type": "execute_result"
    },
    {
     "data": {
      "image/png": "[encoded data removed]",
      "text/plain": [
       "<Figure size 432x288 with 1 Axes>"
      ]
     },
     "metadata": {
      "needs_background": "light"
     },
     "output_type": "display_data"
    }
   ],
   "source": [
    "H[190] = (H[191] + H[189]) /2\n",
    "\n",
    "plt.plot(range(0,193),abs(H))"
   ]
  },
  {
   "cell_type": "code",
   "execution_count": 37,
   "metadata": {},
   "outputs": [],
   "source": [
    "# In the above plot we see that H(e^jw) approches zero at certain values and thus X_final(e^jw) may shoot to infinity.\n",
    "# To avoid this senario we clip the graph at an appropriate value which is determined by trail and error and assign the same\n",
    "# value to all the values below the threshold\n",
    "\n",
    "H_mod = list(abs(H))\n",
    "\n",
    "for n, i in enumerate(H_mod):\n",
    "    if i < 0.8:\n",
    "        H_mod[n] = 0.8"
   ]
  },
  {
   "cell_type": "code",
   "execution_count": 38,
   "metadata": {},
   "outputs": [],
   "source": [
    "for i in range(22,172):          # assigns the given to all the numbers in this range\n",
    "    \n",
    "    H[i] = 0.15920910143656403-0.7716376423250288j\n",
    "    "
   ]
  },
  {
   "cell_type": "code",
   "execution_count": 39,
   "metadata": {},
   "outputs": [
    {
     "data": {
      "text/plain": [
       "[<matplotlib.lines.Line2D at 0x28b08cc4b20>]"
      ]
     },
     "execution_count": 39,
     "metadata": {},
     "output_type": "execute_result"
    },
    {
     "data": {
      "image/png": "[encoded data removed]",
      "text/plain": [
       "<Figure size 432x288 with 1 Axes>"
      ]
     },
     "metadata": {
      "needs_background": "light"
     },
     "output_type": "display_data"
    }
   ],
   "source": [
    "plt.plot(range(0,193),abs(H))"
   ]
  },
  {
   "cell_type": "code",
   "execution_count": 40,
   "metadata": {},
   "outputs": [],
   "source": [
    "X_final = X/H                    # dtft for the X_final "
   ]
  },
  {
   "cell_type": "code",
   "execution_count": 41,
   "metadata": {},
   "outputs": [],
   "source": [
    "# using inverse fourier transform to convert X_final to X1:\n",
    "\n",
    "N = len(X_final)\n",
    "w = np.linspace(0,2*math.pi,N)             # taking 193 samples of w between 0 and 2*pi\n",
    "\n",
    "X1 = np.zeros(N,dtype = 'complex_')\n",
    "\n",
    "# Applying the summation formula for inverse dtft\n",
    "\n",
    "for k in range(0,N-1):\n",
    "    X1[k] = 0\n",
    "    \n",
    "    for n in range(0,N-1):\n",
    "        \n",
    "        X1[k] = ( X1[k] + X_final[n]* math.e**(1j * w[k] *n))\n",
    "        \n",
    "X1 = X1 / 193"
   ]
  },
  {
   "cell_type": "markdown",
   "metadata": {},
   "source": [
    "# Final plot for X1[n] and comparision with original x[n]"
   ]
  },
  {
   "cell_type": "code",
   "execution_count": 42,
   "metadata": {},
   "outputs": [
    {
     "data": {
      "text/plain": [
       "<function matplotlib.pyplot.show(close=None, block=None)>"
      ]
     },
     "execution_count": 42,
     "metadata": {},
     "output_type": "execute_result"
    },
    {
     "data": {
      "image/png": "[encoded data removed]",
      "text/plain": [
       "<Figure size 432x288 with 1 Axes>"
      ]
     },
     "metadata": {
      "needs_background": "light"
     },
     "output_type": "display_data"
    }
   ],
   "source": [
    "plt.scatter(range(0,193),abs(X1))\n",
    "plt.scatter(range(0,193),x)\n",
    "#plt.plot(w,y)\n",
    "\n",
    "plt.show\n",
    "\n",
    "# Orange plot represents original signal x[n]\n",
    "# Blue plot represents X1[n]"
   ]
  },
  {
   "cell_type": "code",
   "execution_count": 43,
   "metadata": {},
   "outputs": [
    {
     "name": "stdout",
     "output_type": "stream",
     "text": [
      "50.57979074862414\n"
     ]
    }
   ],
   "source": [
    "# for comparing these plots we can calculate the mean error between all the values\n",
    "# As the value of error decreases, accuracy of determining x[n] increases.\n",
    "\n",
    "abs_error = []\n",
    "\n",
    "for i in range(0,191):                              # excluding last 2 values since they are way off true value        \n",
    "    abs_error.append(abs(X1[i]+x[i]))\n",
    "    \n",
    "mean_error = sum(abs_error)/191\n",
    "\n",
    "print(mean_error)\n",
    "    "
   ]
  },
  {
   "cell_type": "code",
   "execution_count": null,
   "metadata": {},
   "outputs": [],
   "source": []
  }
 ],
 "metadata": {
  "kernelspec": {
   "display_name": "Python 3",
   "language": "python",
   "name": "python3"
  },
  "language_info": {
   "codemirror_mode": {
    "name": "ipython",
    "version": 3
   },
   "file_extension": ".py",
   "mimetype": "text/x-python",
   "name": "python",
   "nbconvert_exporter": "python",
   "pygments_lexer": "ipython3",
   "version": "3.8.5"
  }
 },
 "nbformat": 4,
 "nbformat_minor": 4
}
